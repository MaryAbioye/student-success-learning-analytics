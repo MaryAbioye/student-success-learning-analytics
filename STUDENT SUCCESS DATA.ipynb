{
 "cells": [
  {
   "cell_type": "code",
   "execution_count": 1,
   "id": "b0d8a7ed",
   "metadata": {},
   "outputs": [
    {
     "name": "stdout",
     "output_type": "stream",
     "text": [
      "   code_module code_presentation  module_presentation_length\n",
      "0          AAA             2013J                         268\n",
      "1          AAA             2014J                         269\n",
      "2          BBB             2013J                         268\n",
      "3          BBB             2014J                         262\n",
      "4          BBB             2013B                         240\n",
      "5          BBB             2014B                         234\n",
      "6          CCC             2014J                         269\n",
      "7          CCC             2014B                         241\n",
      "8          DDD             2013J                         261\n",
      "9          DDD             2014J                         262\n",
      "10         DDD             2013B                         240\n",
      "11         DDD             2014B                         241\n",
      "12         EEE             2013J                         268\n",
      "13         EEE             2014J                         269\n",
      "14         EEE             2014B                         241\n",
      "15         FFF             2013J                         268\n",
      "16         FFF             2014J                         269\n",
      "17         FFF             2013B                         240\n",
      "18         FFF             2014B                         241\n",
      "19         GGG             2013J                         261\n",
      "20         GGG             2014J                         269\n",
      "21         GGG             2014B                         241\n"
     ]
    }
   ],
   "source": [
    "#import libraries\n",
    "import pandas as pd\n",
    "\n",
    "#read csv file\n",
    "courses= pd.read_csv('courses.csv', low_memory = False)\n",
    "\n",
    "\n",
    "\n",
    "# Print the resulting DataFrame\n",
    "print(courses)"
   ]
  },
  {
   "cell_type": "code",
   "execution_count": 2,
   "id": "17b0f458",
   "metadata": {},
   "outputs": [
    {
     "name": "stdout",
     "output_type": "stream",
     "text": [
      "    code_module code_presentation  id_assessment assessment_type   date  \\\n",
      "0           AAA             2013J           1752             TMA   19.0   \n",
      "1           AAA             2013J           1753             TMA   54.0   \n",
      "2           AAA             2013J           1754             TMA  117.0   \n",
      "3           AAA             2013J           1755             TMA  166.0   \n",
      "4           AAA             2013J           1756             TMA  215.0   \n",
      "..          ...               ...            ...             ...    ...   \n",
      "201         GGG             2014J          37443             CMA  229.0   \n",
      "202         GGG             2014J          37435             TMA   61.0   \n",
      "203         GGG             2014J          37436             TMA  124.0   \n",
      "204         GGG             2014J          37437             TMA  173.0   \n",
      "205         GGG             2014J          37444            Exam  229.0   \n",
      "\n",
      "     weight  \n",
      "0      10.0  \n",
      "1      20.0  \n",
      "2      20.0  \n",
      "3      20.0  \n",
      "4      30.0  \n",
      "..      ...  \n",
      "201     0.0  \n",
      "202     0.0  \n",
      "203     0.0  \n",
      "204     0.0  \n",
      "205   100.0  \n",
      "\n",
      "[206 rows x 6 columns]\n"
     ]
    }
   ],
   "source": [
    "#read csv file\n",
    "assessments= pd.read_csv('assessments.csv', low_memory = False)\n",
    "\n",
    "\n",
    "# Print the resulting DataFrame\n",
    "print(assessments)"
   ]
  },
  {
   "cell_type": "code",
   "execution_count": 3,
   "id": "1ab60dc7",
   "metadata": {},
   "outputs": [
    {
     "name": "stdout",
     "output_type": "stream",
     "text": [
      "      code_module code_presentation  id_student  date_registration  \\\n",
      "0             AAA             2013J       11391             -159.0   \n",
      "1             AAA             2013J       28400              -53.0   \n",
      "2             AAA             2013J       30268              -92.0   \n",
      "3             AAA             2013J       31604              -52.0   \n",
      "4             AAA             2013J       32885             -176.0   \n",
      "...           ...               ...         ...                ...   \n",
      "32588         GGG             2014J     2640965               -4.0   \n",
      "32589         GGG             2014J     2645731              -23.0   \n",
      "32590         GGG             2014J     2648187             -129.0   \n",
      "32591         GGG             2014J     2679821              -49.0   \n",
      "32592         GGG             2014J     2684003              -28.0   \n",
      "\n",
      "       date_unregistration  \n",
      "0                      NaN  \n",
      "1                      NaN  \n",
      "2                     12.0  \n",
      "3                      NaN  \n",
      "4                      NaN  \n",
      "...                    ...  \n",
      "32588                  NaN  \n",
      "32589                  NaN  \n",
      "32590                  NaN  \n",
      "32591                101.0  \n",
      "32592                  NaN  \n",
      "\n",
      "[32593 rows x 5 columns]\n"
     ]
    }
   ],
   "source": [
    "#read csv file\n",
    "studentRegistration= pd.read_csv('studentRegistration.csv', low_memory = False)\n",
    "\n",
    "\n",
    "\n",
    "# Print the resulting DataFrame\n",
    "print(studentRegistration)"
   ]
  },
  {
   "cell_type": "code",
   "execution_count": 4,
   "id": "3c3e625f",
   "metadata": {},
   "outputs": [
    {
     "name": "stdout",
     "output_type": "stream",
     "text": [
      "        id_assessment  id_student  date_submitted  is_banked  score\n",
      "0                1752       11391              18          0   78.0\n",
      "1                1752       28400              22          0   70.0\n",
      "2                1752       31604              17          0   72.0\n",
      "3                1752       32885              26          0   69.0\n",
      "4                1752       38053              19          0   79.0\n",
      "...               ...         ...             ...        ...    ...\n",
      "173907          37443      527538             227          0   60.0\n",
      "173908          37443      534672             229          0  100.0\n",
      "173909          37443      546286             215          0   80.0\n",
      "173910          37443      546724             230          0  100.0\n",
      "173911          37443      558486             224          0   80.0\n",
      "\n",
      "[173912 rows x 5 columns]\n"
     ]
    }
   ],
   "source": [
    "import pandas as pd\n",
    "\n",
    "# Read CSV file\n",
    "studentAssessment= pd.read_csv('studentAssessment.csv', low_memory=False)\n",
    "\n",
    "\n",
    "# Print the resulting DataFrame\n",
    "print(studentAssessment)\n"
   ]
  },
  {
   "cell_type": "code",
   "execution_count": 5,
   "id": "5d14ffd3",
   "metadata": {},
   "outputs": [
    {
     "name": "stdout",
     "output_type": "stream",
     "text": [
      "      code_module code_presentation  id_student gender                region  \\\n",
      "0             AAA             2013J       11391      M   East Anglian Region   \n",
      "1             AAA             2013J       28400      F              Scotland   \n",
      "2             AAA             2013J       30268      F  North Western Region   \n",
      "3             AAA             2013J       31604      F     South East Region   \n",
      "4             AAA             2013J       32885      F  West Midlands Region   \n",
      "...           ...               ...         ...    ...                   ...   \n",
      "31477         GGG             2014J     2640965      F                 Wales   \n",
      "31478         GGG             2014J     2645731      F   East Anglian Region   \n",
      "31479         GGG             2014J     2648187      F          South Region   \n",
      "31480         GGG             2014J     2679821      F     South East Region   \n",
      "31481         GGG             2014J     2684003      F      Yorkshire Region   \n",
      "\n",
      "           highest_education imd_band age_band  num_of_prev_attempts  \\\n",
      "0           HE Qualification  90-100%     55<=                     0   \n",
      "1           HE Qualification   20-30%    35-55                     0   \n",
      "2      A Level or Equivalent   30-40%    35-55                     0   \n",
      "3      A Level or Equivalent   50-60%    35-55                     0   \n",
      "4         Lower Than A Level   50-60%     0-35                     0   \n",
      "...                      ...      ...      ...                   ...   \n",
      "31477     Lower Than A Level    10-20     0-35                     0   \n",
      "31478     Lower Than A Level   40-50%    35-55                     0   \n",
      "31479  A Level or Equivalent   20-30%     0-35                     0   \n",
      "31480     Lower Than A Level  90-100%    35-55                     0   \n",
      "31481       HE Qualification   50-60%    35-55                     0   \n",
      "\n",
      "       studied_credits disability final_result  \n",
      "0                  240          N         Pass  \n",
      "1                   60          N         Pass  \n",
      "2                   60          Y    Withdrawn  \n",
      "3                   60          N         Pass  \n",
      "4                   60          N         Pass  \n",
      "...                ...        ...          ...  \n",
      "31477               30          N         Fail  \n",
      "31478               30          N  Distinction  \n",
      "31479               30          Y         Pass  \n",
      "31480               30          N    Withdrawn  \n",
      "31481               30          N  Distinction  \n",
      "\n",
      "[31482 rows x 12 columns]\n"
     ]
    }
   ],
   "source": [
    "#read csv file\n",
    "studentinfo= pd.read_csv('studentinfo.csv', low_memory = False)\n",
    "\n",
    "\n",
    "\n",
    "# Print the resulting DataFrame\n",
    "print(studentinfo)\n",
    "\n"
   ]
  },
  {
   "cell_type": "code",
   "execution_count": 6,
   "id": "fcddb96b",
   "metadata": {},
   "outputs": [
    {
     "name": "stdout",
     "output_type": "stream",
     "text": [
      "         code_module code_presentation  id_student  id_site  date  sum_click\n",
      "0                AAA             2013J       28400   546652   -10          4\n",
      "1                AAA             2013J       28400   546652   -10          1\n",
      "2                AAA             2013J       28400   546652   -10          1\n",
      "3                AAA             2013J       28400   546614   -10         11\n",
      "4                AAA             2013J       28400   546714   -10          1\n",
      "...              ...               ...         ...      ...   ...        ...\n",
      "10655275         GGG             2014J      675811   896943   269          3\n",
      "10655276         GGG             2014J      675578   896943   269          1\n",
      "10655277         GGG             2014J      654064   896943   269          3\n",
      "10655278         GGG             2014J      654064   896939   269          1\n",
      "10655279         GGG             2014J      654064   896939   269          1\n",
      "\n",
      "[10655280 rows x 6 columns]\n"
     ]
    }
   ],
   "source": [
    "#read csv file\n",
    "studentVle= pd.read_csv('studentVle.csv', low_memory = False)\n",
    "\n",
    "\n",
    "# Print the resulting DataFrame\n",
    "print(studentVle)"
   ]
  },
  {
   "cell_type": "code",
   "execution_count": 7,
   "id": "1244af24",
   "metadata": {},
   "outputs": [
    {
     "name": "stdout",
     "output_type": "stream",
     "text": [
      "      id_site code_module code_presentation activity_type  week_from  week_to\n",
      "0      546943         AAA             2013J      resource        NaN      NaN\n",
      "1      546712         AAA             2013J     oucontent        NaN      NaN\n",
      "2      546998         AAA             2013J      resource        NaN      NaN\n",
      "3      546888         AAA             2013J           url        NaN      NaN\n",
      "4      547035         AAA             2013J      resource        NaN      NaN\n",
      "...       ...         ...               ...           ...        ...      ...\n",
      "6359   897063         GGG             2014J      resource        NaN      NaN\n",
      "6360   897109         GGG             2014J      resource        NaN      NaN\n",
      "6361   896965         GGG             2014J     oucontent        NaN      NaN\n",
      "6362   897060         GGG             2014J      resource        NaN      NaN\n",
      "6363   897100         GGG             2014J      resource        NaN      NaN\n",
      "\n",
      "[6364 rows x 6 columns]\n"
     ]
    }
   ],
   "source": [
    "# Read CSV file\n",
    "Vle = pd.read_csv('Vle.csv', low_memory=False)\n",
    "\n",
    "# Print the resulting DataFrame\n",
    "print(Vle)\n"
   ]
  },
  {
   "cell_type": "code",
   "execution_count": 8,
   "id": "5bf461b0",
   "metadata": {},
   "outputs": [
    {
     "name": "stdout",
     "output_type": "stream",
     "text": [
      "          code_module code_presentation  id_student  id_site  date  sum_click  \\\n",
      "0                 AAA             2014J        6516   877049   -23          1   \n",
      "1                 AAA             2014J        6516   877049   -23          1   \n",
      "2                 AAA             2014J        6516   877049   -23          1   \n",
      "3                 AAA             2014J        6516   877049   -23          1   \n",
      "4                 AAA             2014J        6516   877049   -23          1   \n",
      "...               ...               ...         ...      ...   ...        ...   \n",
      "101769003         BBB             2014J     2698588   913473   258          1   \n",
      "101769004         BBB             2014J     2698588   913473   258          1   \n",
      "101769005         BBB             2014J     2698588   913473   258          1   \n",
      "101769006         BBB             2014J     2698588   913473   258          1   \n",
      "101769007         BBB             2014J     2698588   913473   258          1   \n",
      "\n",
      "           id_assessment  date_submitted  is_banked  score  \n",
      "0                   1758              17          0   60.0  \n",
      "1                   1759              51          0   48.0  \n",
      "2                   1760             116          0   63.0  \n",
      "3                   1761             164          0   61.0  \n",
      "4                   1762             210          0   77.0  \n",
      "...                  ...             ...        ...    ...  \n",
      "101769003          15020              18          0  100.0  \n",
      "101769004          15021              53          0   85.0  \n",
      "101769005          15022             109          0   87.0  \n",
      "101769006          15023             152          0   95.0  \n",
      "101769007          15024             202          0   95.0  \n",
      "\n",
      "[101769008 rows x 10 columns]\n"
     ]
    }
   ],
   "source": [
    "# Read the studentdata file\n",
    "Student_data1 = pd.merge(studentVle, studentAssessment, how='inner', on=None, left_on=None, right_on=None,\n",
    "                         left_index=False, right_index=False, sort=True)\n",
    "\n",
    "# Print the resulting merged and cleaned DataFrame\n",
    "print(Student_data1)\n"
   ]
  },
  {
   "cell_type": "code",
   "execution_count": 9,
   "id": "49c86e64",
   "metadata": {},
   "outputs": [
    {
     "name": "stdout",
     "output_type": "stream",
     "text": [
      "    code_module code_presentation  module_presentation_length  id_assessment  \\\n",
      "0           AAA             2013J                         268           1752   \n",
      "1           AAA             2013J                         268           1753   \n",
      "2           AAA             2013J                         268           1754   \n",
      "3           AAA             2013J                         268           1755   \n",
      "4           AAA             2013J                         268           1756   \n",
      "..          ...               ...                         ...            ...   \n",
      "201         GGG             2014J                         269          37443   \n",
      "202         GGG             2014J                         269          37435   \n",
      "203         GGG             2014J                         269          37436   \n",
      "204         GGG             2014J                         269          37437   \n",
      "205         GGG             2014J                         269          37444   \n",
      "\n",
      "    assessment_type   date  weight  \n",
      "0               TMA   19.0    10.0  \n",
      "1               TMA   54.0    20.0  \n",
      "2               TMA  117.0    20.0  \n",
      "3               TMA  166.0    20.0  \n",
      "4               TMA  215.0    30.0  \n",
      "..              ...    ...     ...  \n",
      "201             CMA  229.0     0.0  \n",
      "202             TMA   61.0     0.0  \n",
      "203             TMA  124.0     0.0  \n",
      "204             TMA  173.0     0.0  \n",
      "205            Exam  229.0   100.0  \n",
      "\n",
      "[206 rows x 7 columns]\n"
     ]
    }
   ],
   "source": [
    "# Read the studentdata file\n",
    "Student_data2 = pd.merge(courses, assessments, how='inner', on=None, left_on=None, right_on=None,\n",
    "                         left_index=False, right_index=False, sort=True)\n",
    "\n",
    "# Print the resulting merged and cleaned DataFrame\n",
    "print(Student_data2)\n"
   ]
  },
  {
   "cell_type": "code",
   "execution_count": 10,
   "id": "60ebba03",
   "metadata": {},
   "outputs": [
    {
     "name": "stdout",
     "output_type": "stream",
     "text": [
      "       code_module code_presentation  id_student  id_site  date  sum_click  \\\n",
      "0              AAA             2013J       32885   546732    19          2   \n",
      "1              AAA             2013J       32885   546614    19          1   \n",
      "2              AAA             2013J       38053   546879    19          5   \n",
      "3              AAA             2013J       38053   546667    19          4   \n",
      "4              AAA             2013J       38053   546657    19         11   \n",
      "...            ...               ...         ...      ...   ...        ...   \n",
      "613957         GGG             2014J     2533195   896971   229          1   \n",
      "613958         GGG             2014J     2533195   896943   229          4   \n",
      "613959         GGG             2014J     2606765   896943   229          1   \n",
      "613960         GGG             2014J     2620947   896943   229          2   \n",
      "613961         GGG             2014J     2620947   896970   229          6   \n",
      "\n",
      "        id_assessment  date_submitted  is_banked  score  \\\n",
      "0                1752              26          0   69.0   \n",
      "1                1752              26          0   69.0   \n",
      "2                1752              19          0   79.0   \n",
      "3                1752              19          0   79.0   \n",
      "4                1752              19          0   79.0   \n",
      "...               ...             ...        ...    ...   \n",
      "613957          37443             212          0   80.0   \n",
      "613958          37443             212          0   80.0   \n",
      "613959          37443             226          0   80.0   \n",
      "613960          37443             222          0   80.0   \n",
      "613961          37443             222          0   80.0   \n",
      "\n",
      "        module_presentation_length assessment_type  weight  \n",
      "0                              268             TMA    10.0  \n",
      "1                              268             TMA    10.0  \n",
      "2                              268             TMA    10.0  \n",
      "3                              268             TMA    10.0  \n",
      "4                              268             TMA    10.0  \n",
      "...                            ...             ...     ...  \n",
      "613957                         269             CMA     0.0  \n",
      "613958                         269             CMA     0.0  \n",
      "613959                         269             CMA     0.0  \n",
      "613960                         269             CMA     0.0  \n",
      "613961                         269             CMA     0.0  \n",
      "\n",
      "[613962 rows x 13 columns]\n"
     ]
    }
   ],
   "source": [
    "# Read the studentdata file\n",
    "Student_data3 = pd.merge(Student_data1, Student_data2, how='inner', on=None, left_on=None, right_on=None,\n",
    "                         left_index=False, right_index=False, sort=True)\n",
    "\n",
    "# Print the resulting merged and cleaned DataFrame\n",
    "print(Student_data3)\n"
   ]
  },
  {
   "cell_type": "code",
   "execution_count": 11,
   "id": "5d8de855",
   "metadata": {},
   "outputs": [
    {
     "name": "stdout",
     "output_type": "stream",
     "text": [
      "          id_site code_module code_presentation activity_type  week_from  \\\n",
      "0          546943         AAA             2013J      resource        NaN   \n",
      "1          546943         AAA             2013J      resource        NaN   \n",
      "2          546943         AAA             2013J      resource        NaN   \n",
      "3          546943         AAA             2013J      resource        NaN   \n",
      "4          546943         AAA             2013J      resource        NaN   \n",
      "...           ...         ...               ...           ...        ...   \n",
      "10466035   897100         GGG             2014J      resource        NaN   \n",
      "10466036   897100         GGG             2014J      resource        NaN   \n",
      "10466037   897100         GGG             2014J      resource        NaN   \n",
      "10466038   897100         GGG             2014J      resource        NaN   \n",
      "10466039   897100         GGG             2014J      resource        NaN   \n",
      "\n",
      "          week_to  id_student  date_registration  date_unregistration  \n",
      "0             NaN       11391             -159.0                  NaN  \n",
      "1             NaN       28400              -53.0                  NaN  \n",
      "2             NaN       30268              -92.0                 12.0  \n",
      "3             NaN       31604              -52.0                  NaN  \n",
      "4             NaN       32885             -176.0                  NaN  \n",
      "...           ...         ...                ...                  ...  \n",
      "10466035      NaN     2640965               -4.0                  NaN  \n",
      "10466036      NaN     2645731              -23.0                  NaN  \n",
      "10466037      NaN     2648187             -129.0                  NaN  \n",
      "10466038      NaN     2679821              -49.0                101.0  \n",
      "10466039      NaN     2684003              -28.0                  NaN  \n",
      "\n",
      "[10466040 rows x 9 columns]\n"
     ]
    }
   ],
   "source": [
    "# Read the studentdata file\n",
    "Student_data4 = pd.merge(Vle, studentRegistration, how='inner', on=None, left_on=None, right_on=None,\n",
    "                         left_index=False, right_index=False, sort=True)\n",
    "\n",
    "# Print the resulting merged and cleaned DataFrame\n",
    "print(Student_data4)\n"
   ]
  },
  {
   "cell_type": "code",
   "execution_count": 12,
   "id": "bad9b996",
   "metadata": {},
   "outputs": [
    {
     "name": "stdout",
     "output_type": "stream",
     "text": [
      "       code_module code_presentation  id_student  id_site  date  sum_click  \\\n",
      "0              AAA             2013J       11391   546614    54          1   \n",
      "1              AAA             2013J       31604   546614    54          1   \n",
      "2              AAA             2013J       31604   546614   117          1   \n",
      "3              AAA             2013J       31604   546614   166          4   \n",
      "4              AAA             2013J       31604   546654    54          2   \n",
      "...            ...               ...         ...      ...   ...        ...   \n",
      "613957         GGG             2014J     2645731   896943   124          3   \n",
      "613958         GGG             2014J     2645731   896943   173          2   \n",
      "613959         GGG             2014J     2645731   896962   173          3   \n",
      "613960         GGG             2014J     2645731   896973   173          1   \n",
      "613961         GGG             2014J     2645731   897150   173          2   \n",
      "\n",
      "        id_assessment  date_submitted  is_banked  score  \\\n",
      "0                1753              53          0   85.0   \n",
      "1                1753              51          0   71.0   \n",
      "2                1754             115          0   74.0   \n",
      "3                1755             165          0   88.0   \n",
      "4                1753              51          0   71.0   \n",
      "...               ...             ...        ...    ...   \n",
      "613957          37436             121          0   81.0   \n",
      "613958          37437             177          0   72.0   \n",
      "613959          37437             177          0   72.0   \n",
      "613960          37437             177          0   72.0   \n",
      "613961          37437             177          0   72.0   \n",
      "\n",
      "        module_presentation_length assessment_type  weight activity_type  \\\n",
      "0                              268             TMA    20.0      homepage   \n",
      "1                              268             TMA    20.0      homepage   \n",
      "2                              268             TMA    20.0      homepage   \n",
      "3                              268             TMA    20.0      homepage   \n",
      "4                              268             TMA    20.0       forumng   \n",
      "...                            ...             ...     ...           ...   \n",
      "613957                         269             TMA     0.0      homepage   \n",
      "613958                         269             TMA     0.0      homepage   \n",
      "613959                         269             TMA     0.0     oucontent   \n",
      "613960                         269             TMA     0.0     oucontent   \n",
      "613961                         269             TMA     0.0       subpage   \n",
      "\n",
      "        week_from  week_to  date_registration  date_unregistration  \n",
      "0             NaN      NaN             -159.0                  NaN  \n",
      "1             NaN      NaN              -52.0                  NaN  \n",
      "2             NaN      NaN              -52.0                  NaN  \n",
      "3             NaN      NaN              -52.0                  NaN  \n",
      "4             NaN      NaN              -52.0                  NaN  \n",
      "...           ...      ...                ...                  ...  \n",
      "613957        NaN      NaN              -23.0                  NaN  \n",
      "613958        NaN      NaN              -23.0                  NaN  \n",
      "613959        NaN      NaN              -23.0                  NaN  \n",
      "613960        NaN      NaN              -23.0                  NaN  \n",
      "613961        NaN      NaN              -23.0                  NaN  \n",
      "\n",
      "[613962 rows x 18 columns]\n"
     ]
    }
   ],
   "source": [
    "# Read the studentdata file\n",
    "Student_data5 = pd.merge(Student_data3, Student_data4, how='inner', on=None, left_on=None, right_on=None,\n",
    "                         left_index=False, right_index=False, sort=True)\n",
    "\n",
    "# Print the resulting merged and cleaned DataFrame\n",
    "print(Student_data5)\n"
   ]
  },
  {
   "cell_type": "code",
   "execution_count": 13,
   "id": "9af16911",
   "metadata": {},
   "outputs": [
    {
     "name": "stdout",
     "output_type": "stream",
     "text": [
      "       code_module code_presentation  id_student  id_site  date  sum_click  \\\n",
      "0              AAA             2013J       11391   546614    54          1   \n",
      "1              AAA             2013J       31604   546614    54          1   \n",
      "2              AAA             2013J       31604   546614   117          1   \n",
      "3              AAA             2013J       31604   546614   166          4   \n",
      "4              AAA             2013J       31604   546654    54          2   \n",
      "...            ...               ...         ...      ...   ...        ...   \n",
      "577060         GGG             2014J     2645731   896943   124          3   \n",
      "577061         GGG             2014J     2645731   896943   173          2   \n",
      "577062         GGG             2014J     2645731   896962   173          3   \n",
      "577063         GGG             2014J     2645731   896973   173          1   \n",
      "577064         GGG             2014J     2645731   897150   173          2   \n",
      "\n",
      "        id_assessment  date_submitted  is_banked  score  ...  \\\n",
      "0                1753              53          0   85.0  ...   \n",
      "1                1753              51          0   71.0  ...   \n",
      "2                1754             115          0   74.0  ...   \n",
      "3                1755             165          0   88.0  ...   \n",
      "4                1753              51          0   71.0  ...   \n",
      "...               ...             ...        ...    ...  ...   \n",
      "577060          37436             121          0   81.0  ...   \n",
      "577061          37437             177          0   72.0  ...   \n",
      "577062          37437             177          0   72.0  ...   \n",
      "577063          37437             177          0   72.0  ...   \n",
      "577064          37437             177          0   72.0  ...   \n",
      "\n",
      "        date_unregistration gender               region  \\\n",
      "0                       NaN      M  East Anglian Region   \n",
      "1                       NaN      F    South East Region   \n",
      "2                       NaN      F    South East Region   \n",
      "3                       NaN      F    South East Region   \n",
      "4                       NaN      F    South East Region   \n",
      "...                     ...    ...                  ...   \n",
      "577060                  NaN      F  East Anglian Region   \n",
      "577061                  NaN      F  East Anglian Region   \n",
      "577062                  NaN      F  East Anglian Region   \n",
      "577063                  NaN      F  East Anglian Region   \n",
      "577064                  NaN      F  East Anglian Region   \n",
      "\n",
      "            highest_education  imd_band  age_band  num_of_prev_attempts  \\\n",
      "0            HE Qualification   90-100%      55<=                     0   \n",
      "1       A Level or Equivalent    50-60%     35-55                     0   \n",
      "2       A Level or Equivalent    50-60%     35-55                     0   \n",
      "3       A Level or Equivalent    50-60%     35-55                     0   \n",
      "4       A Level or Equivalent    50-60%     35-55                     0   \n",
      "...                       ...       ...       ...                   ...   \n",
      "577060     Lower Than A Level    40-50%     35-55                     0   \n",
      "577061     Lower Than A Level    40-50%     35-55                     0   \n",
      "577062     Lower Than A Level    40-50%     35-55                     0   \n",
      "577063     Lower Than A Level    40-50%     35-55                     0   \n",
      "577064     Lower Than A Level    40-50%     35-55                     0   \n",
      "\n",
      "        studied_credits disability final_result  \n",
      "0                   240          N         Pass  \n",
      "1                    60          N         Pass  \n",
      "2                    60          N         Pass  \n",
      "3                    60          N         Pass  \n",
      "4                    60          N         Pass  \n",
      "...                 ...        ...          ...  \n",
      "577060               30          N  Distinction  \n",
      "577061               30          N  Distinction  \n",
      "577062               30          N  Distinction  \n",
      "577063               30          N  Distinction  \n",
      "577064               30          N  Distinction  \n",
      "\n",
      "[577065 rows x 27 columns]\n"
     ]
    }
   ],
   "source": [
    "# Read the studentdata file\n",
    "Student_data6 = pd.merge(Student_data5, studentinfo, how='inner', on=None, left_on=None, right_on=None,\n",
    "                         left_index=False, right_index=False, sort=True)\n",
    "\n",
    "# Print the resulting merged and cleaned DataFrame\n",
    "print(Student_data6)\n"
   ]
  },
  {
   "cell_type": "code",
   "execution_count": 14,
   "id": "87c65e66",
   "metadata": {},
   "outputs": [],
   "source": [
    "#Convert merged DataFrame to CSV\n",
    "Student_data6.to_csv(\"Student_data6.csv\", index=False, header = True)\n"
   ]
  },
  {
   "cell_type": "code",
   "execution_count": 18,
   "id": "b7b300b8",
   "metadata": {},
   "outputs": [
    {
     "name": "stdout",
     "output_type": "stream",
     "text": [
      "       code_module code_presentation  sum_click  score assessment_type  \\\n",
      "0              AAA             2013J          1   85.0             TMA   \n",
      "1              AAA             2013J          1   71.0             TMA   \n",
      "2              AAA             2013J          1   74.0             TMA   \n",
      "3              AAA             2013J          4   88.0             TMA   \n",
      "4              AAA             2013J          2   71.0             TMA   \n",
      "...            ...               ...        ...    ...             ...   \n",
      "577057         GGG             2014J          6   80.0             CMA   \n",
      "577060         GGG             2014J          3   81.0             TMA   \n",
      "577061         GGG             2014J          2   72.0             TMA   \n",
      "577062         GGG             2014J          3   72.0             TMA   \n",
      "577063         GGG             2014J          1   72.0             TMA   \n",
      "\n",
      "        weight gender               region      highest_education imd_band  \\\n",
      "0         20.0      M  East Anglian Region       HE Qualification  90-100%   \n",
      "1         20.0      F    South East Region  A Level or Equivalent   50-60%   \n",
      "2         20.0      F    South East Region  A Level or Equivalent   50-60%   \n",
      "3         20.0      F    South East Region  A Level or Equivalent   50-60%   \n",
      "4         20.0      F    South East Region  A Level or Equivalent   50-60%   \n",
      "...        ...    ...                  ...                    ...      ...   \n",
      "577057     0.0      F             Scotland  A Level or Equivalent   80-90%   \n",
      "577060     0.0      F  East Anglian Region     Lower Than A Level   40-50%   \n",
      "577061     0.0      F  East Anglian Region     Lower Than A Level   40-50%   \n",
      "577062     0.0      F  East Anglian Region     Lower Than A Level   40-50%   \n",
      "577063     0.0      F  East Anglian Region     Lower Than A Level   40-50%   \n",
      "\n",
      "       age_band final_result  \n",
      "0          55<=         Pass  \n",
      "1         35-55         Pass  \n",
      "2         35-55         Pass  \n",
      "3         35-55         Pass  \n",
      "4         35-55         Pass  \n",
      "...         ...          ...  \n",
      "577057     0-35  Distinction  \n",
      "577060    35-55  Distinction  \n",
      "577061    35-55  Distinction  \n",
      "577062    35-55  Distinction  \n",
      "577063    35-55  Distinction  \n",
      "\n",
      "[269744 rows x 12 columns]\n"
     ]
    }
   ],
   "source": [
    "# Read the CSV file\n",
    "new_Student_data6 = pd.read_csv(\"Student_data6.csv\", header=0)\n",
    "\n",
    "# Drop specific columns\n",
    "columns_to_drop = ['activity_type', 'week_from', 'week_to', 'id_site', 'disability', 'studied_credits',\n",
    "                   'date_unregistration', 'date_registration', 'date_submitted',\n",
    "                   'id_student', 'date', 'id_assessment', 'is_banked', 'num_of_prev_attempts',\n",
    "                   'module_presentation_length']\n",
    "\n",
    "# Check if the columns exist in the DataFrame\n",
    "existing_columns = set(columns_to_drop).intersection(new_Student_data6.columns)\n",
    "\n",
    "# Drop existing columns\n",
    "if existing_columns:\n",
    "    new_Student_data6 = new_Student_data6.drop(columns_to_drop, axis=1)\n",
    "else:\n",
    "    print(\"One or more columns do not exist in the DataFrame.\")\n",
    "\n",
    "# Drop missing values and duplicates\n",
    "new_Student_data6 = new_Student_data6.dropna().drop_duplicates()\n",
    "\n",
    "# Print the resulting cleaned DataFrame\n",
    "print(new_Student_data6)\n"
   ]
  },
  {
   "cell_type": "code",
   "execution_count": 19,
   "id": "a19cb2db",
   "metadata": {
    "scrolled": true
   },
   "outputs": [],
   "source": [
    "#Convert merged DataFrame to CSV\n",
    "new_Student_data6.to_csv(\"new_Student_data6.csv\", index=False, header = True)\n"
   ]
  },
  {
   "cell_type": "code",
   "execution_count": null,
   "id": "4dcf851c",
   "metadata": {},
   "outputs": [],
   "source": []
  }
 ],
 "metadata": {
  "kernelspec": {
   "display_name": "Python 3 (ipykernel)",
   "language": "python",
   "name": "python3"
  },
  "language_info": {
   "codemirror_mode": {
    "name": "ipython",
    "version": 3
   },
   "file_extension": ".py",
   "mimetype": "text/x-python",
   "name": "python",
   "nbconvert_exporter": "python",
   "pygments_lexer": "ipython3",
   "version": "3.9.13"
  }
 },
 "nbformat": 4,
 "nbformat_minor": 5
}
